{
  "nbformat": 4,
  "nbformat_minor": 0,
  "metadata": {
    "colab": {
      "provenance": []
    },
    "kernelspec": {
      "name": "python3",
      "display_name": "Python 3"
    },
    "language_info": {
      "name": "python"
    }
  },
  "cells": [
    {
      "cell_type": "markdown",
      "source": [
        "# 실습"
      ],
      "metadata": {
        "id": "i56ZojO9fSvf"
      }
    },
    {
      "cell_type": "code",
      "source": [
        "import os, re\n",
        "import pandas as pd\n",
        "import urllib.request as ur\n",
        "from bs4 import BeautifulSoup as bs"
      ],
      "metadata": {
        "id": "YxbR0_n6fUb5"
      },
      "execution_count": 2,
      "outputs": []
    },
    {
      "cell_type": "code",
      "source": [
        "news='https://news.daum.net/'\n",
        "html = ur.urlopen(news).read()\n",
        "soup = bs(html,'html.parser')"
      ],
      "metadata": {
        "id": "l17zapMZfhhq"
      },
      "execution_count": 3,
      "outputs": []
    },
    {
      "cell_type": "markdown",
      "source": [
        "# 1.머리기사 제목 추출하기\n",
        "\n",
        "\n",
        "*   soup 객체를 가지고 가장 먼저 할 일은 제목을 추출하는 것\n",
        "*   코드를 작성할때는 테스트로 하나의 코드를 작동을 하며, 작동이 잘되면 반복문을 적용하는 것이 좋음\n",
        "\n"
      ],
      "metadata": {
        "id": "3DUUmEk0gbDN"
      }
    },
    {
      "cell_type": "markdown",
      "source": [
        "<확인 순서>\n",
        "\n",
        "\n",
        "1.   <*div*> 태그 속성값 확인\n",
        "2.   특정 단어를 입력하고 웹페이지에서 어떻게 분할되어 있는지 확인\n",
        "\n"
      ],
      "metadata": {
        "id": "wBMDS4EBkOai"
      }
    },
    {
      "cell_type": "code",
      "source": [
        "cont_thumb_list = soup.find_all('div',{\"class\":\"cont_thumb\"})"
      ],
      "metadata": {
        "id": "kILKEBxPkb1b"
      },
      "execution_count": 5,
      "outputs": []
    },
    {
      "cell_type": "code",
      "source": [
        "print(cont_thumb_list[0].text)"
      ],
      "metadata": {
        "colab": {
          "base_uri": "https://localhost:8080/"
        },
        "id": "VuJ2zJ82_V-S",
        "outputId": "23b98db3-544b-42a9-de4d-310acb44512e"
      },
      "execution_count": 7,
      "outputs": [
        {
          "output_type": "stream",
          "name": "stdout",
          "text": [
            "\n",
            "\n",
            "\n",
            "\n",
            "\n",
            "국제\n",
            "\n",
            "\n",
            "\n",
            "                                    美 \"글로벌 공급망 대만해협에 달려\" vs 中 \"늑대엔 총으로 맞서\"\n",
            "                                \n",
            "\n",
            "\n"
          ]
        }
      ]
    },
    {
      "cell_type": "code",
      "source": [
        "cont_thumb_list[0].find('a').text.strip()"
      ],
      "metadata": {
        "colab": {
          "base_uri": "https://localhost:8080/",
          "height": 36
        },
        "id": "XnR0-T5m_qk-",
        "outputId": "c24e2e6f-cd0a-448d-9c57-9e8fe0141658"
      },
      "execution_count": 10,
      "outputs": [
        {
          "output_type": "execute_result",
          "data": {
            "text/plain": [
              "'美 \"글로벌 공급망 대만해협에 달려\" vs 中 \"늑대엔 총으로 맞서\"'"
            ],
            "application/vnd.google.colaboratory.intrinsic+json": {
              "type": "string"
            }
          },
          "metadata": {},
          "execution_count": 10
        }
      ]
    },
    {
      "cell_type": "code",
      "source": [
        "for i in cont_thumb_list[:10]:\n",
        "    print(i.find('a').text.strip())"
      ],
      "metadata": {
        "colab": {
          "base_uri": "https://localhost:8080/"
        },
        "id": "ivg8UEjV_8ru",
        "outputId": "4bd65b0a-fffc-485a-fb0e-d57185503685"
      },
      "execution_count": 13,
      "outputs": [
        {
          "output_type": "stream",
          "name": "stdout",
          "text": [
            "美 \"글로벌 공급망 대만해협에 달려\" vs 中 \"늑대엔 총으로 맞서\"\n",
            "국방장관, 中 겨냥 \"北 불법행위 방기\" 비판... 만나서는 \"건설적 역할\" 맞손\n",
            "닷새째 인양 작전...北, 예고없이 2차 발사?\n",
            "깡통전세 우려에 이번 주부터 대출 완화 방안 논의\n",
            "정부, “가덕신공항 건설, 2030 엑스포 부산 유치와 관계 없이 진행할 터”\n",
            "부산 강서차고자 개장 40여일 유예...市 노선변경 재검토\n",
            "\"육회·게장 안 판다\"는 백화점도…올여름 역대급 무더위 비상\n",
            "23세 김태한, 3대 콩쿠르 품었다…亞 남성 성악가 최초\n",
            "與 긴급 최고위 열어 “위원장 사퇴”…민주 “선관위 길들이기”\n",
            "\"폴더블 종주국은 韓\"···퍼스트 무버 위상 과시\n"
          ]
        }
      ]
    },
    {
      "cell_type": "code",
      "source": [
        "total_a_list = soup.find_all('a')"
      ],
      "metadata": {
        "id": "0b_JZS5vAl0H"
      },
      "execution_count": 14,
      "outputs": []
    },
    {
      "cell_type": "code",
      "source": [
        "print(total_a_list[-1])"
      ],
      "metadata": {
        "colab": {
          "base_uri": "https://localhost:8080/"
        },
        "id": "HHK8IuAuBF9g",
        "outputId": "380bfbc8-a554-4e22-ec32-e1be767341a7"
      },
      "execution_count": 17,
      "outputs": [
        {
          "output_type": "stream",
          "name": "stdout",
          "text": [
            "<a class=\"link_kakao\" href=\"http://www.kakaocorp.com/\">Kakao Corp.</a>\n"
          ]
        }
      ]
    },
    {
      "cell_type": "code",
      "source": [
        "print(total_a_list[-1].text)"
      ],
      "metadata": {
        "colab": {
          "base_uri": "https://localhost:8080/"
        },
        "id": "5O54hd0rBWoO",
        "outputId": "b92ecb67-d97e-467f-ff35-a5d87d406dd4"
      },
      "execution_count": 18,
      "outputs": [
        {
          "output_type": "stream",
          "name": "stdout",
          "text": [
            "Kakao Corp.\n"
          ]
        }
      ]
    },
    {
      "cell_type": "code",
      "source": [
        "print(total_a_list[-1].get('href'))"
      ],
      "metadata": {
        "colab": {
          "base_uri": "https://localhost:8080/"
        },
        "id": "lRQKVZ1QBd8R",
        "outputId": "b512b572-2b3d-4e36-f180-0ee237b434f4"
      },
      "execution_count": 19,
      "outputs": [
        {
          "output_type": "stream",
          "name": "stdout",
          "text": [
            "http://www.kakaocorp.com/\n"
          ]
        }
      ]
    },
    {
      "cell_type": "code",
      "source": [
        "for i in total_a_list[:20]:\n",
        "    print(i.get('href'))"
      ],
      "metadata": {
        "colab": {
          "base_uri": "https://localhost:8080/"
        },
        "id": "DaDj3zabBin4",
        "outputId": "46a1e897-82ad-46ae-9085-042a9b00a8b0"
      },
      "execution_count": 21,
      "outputs": [
        {
          "output_type": "stream",
          "name": "stdout",
          "text": [
            "#mainContent\n",
            "#gnbContent\n",
            "https://www.daum.net/\n",
            "https://news.daum.net/\n",
            "https://entertain.daum.net\n",
            "https://sports.daum.net\n",
            "/\n",
            "/society\n",
            "/politics\n",
            "/economic\n",
            "/foreign\n",
            "/culture\n",
            "/digital\n",
            "/series/\n",
            "/photo\n",
            "https://focus.daum.net/ch/news/factcheck\n",
            "https://v.daum.net/v/20230604182413044\n",
            "https://v.daum.net/v/20230604182413044\n",
            "https://v.daum.net/v/20230604190217614\n",
            "https://v.daum.net/v/20230604190217614\n"
          ]
        }
      ]
    },
    {
      "cell_type": "code",
      "source": [
        "news = 'https://news.daum.net/'\n",
        "soup = bs(ur.urlopen(news).read(), 'html.parser')\n",
        "url_link_list = soup.find_all('div',{\"class\":\"item_issue\"})"
      ],
      "metadata": {
        "id": "pcQ9XYSMBn0_"
      },
      "execution_count": 38,
      "outputs": []
    },
    {
      "cell_type": "code",
      "source": [
        "url_link_list[-1]"
      ],
      "metadata": {
        "colab": {
          "base_uri": "https://localhost:8080/"
        },
        "id": "7pubYB5dCDIy",
        "outputId": "7d3269bb-5b2e-44be-f51f-f166a9fefdb3"
      },
      "execution_count": 39,
      "outputs": [
        {
          "output_type": "execute_result",
          "data": {
            "text/plain": [
              "<div class=\"item_issue\" data-tiara-layer=\"headline1\">\n",
              "<a class=\"wrap_thumb\" data-tiara-custom=\"contentUniqueKey=hamny-20230604194109110&amp;clusterId=5590576,5590543,5150091,5139529,478,477&amp;clusterTitle=[언론사픽] 열독률,[언론사픽] 주요뉴스,사회,[랭크업] 유레이더 1 OR 2 추가점수,채널A 뉴스A,채널A&amp;keywordType=NONE,NONE,NONE,NONE,NONE,NONE\" data-tiara-id=\"20230604194109110\" data-tiara-layer=\"article_main\" data-tiara-ordnum=\"20\" data-tiara-type=\"harmony\" href=\"https://v.daum.net/v/20230604194109110\">\n",
              "<img alt=\"\" class=\"thumb_g\" src=\"https://img1.daumcdn.net/thumb/S96x60ht.u/?fname=https%3A%2F%2Ft1.daumcdn.net%2Fnews%2F202306%2F04%2FChannela%2F20230604194110765erni.jpg&amp;scode=media\" ‘쇠사슬’=\"\" 논의=\"\" 동생=\"\" 맨=\"\" 목에=\"\" 방법=\"\" 예정\"=\"\" 지원=\"\" 형…경찰,=\"\"/>\n",
              "</a>\n",
              "<div class=\"cont_thumb\">\n",
              "<span class=\"info_thumb\">\n",
              "<span class=\"logo_cp\">\n",
              "<img alt=\"채널A\" class=\"thumb_g\" onerror=\"this.style.display='none';\" src=\"https://t1.daumcdn.net/media/news/news2016/cp/cp_channela.gif\"/>\n",
              "</span>\n",
              "<span class=\"txt_category\">사회</span>\n",
              "</span>\n",
              "<strong class=\"tit_g\">\n",
              "<a class=\"link_txt\" data-tiara-custom=\"contentUniqueKey=hamny-20230604194109110&amp;clusterId=5590576,5590543,5150091,5139529,478,477&amp;clusterTitle=[언론사픽] 열독률,[언론사픽] 주요뉴스,사회,[랭크업] 유레이더 1 OR 2 추가점수,채널A 뉴스A,채널A&amp;keywordType=NONE,NONE,NONE,NONE,NONE,NONE\" data-tiara-id=\"20230604194109110\" data-tiara-layer=\"article_main\" data-tiara-ordnum=\"20\" data-tiara-type=\"harmony\" href=\"https://v.daum.net/v/20230604194109110\">\n",
              "                                    동생 목에 ‘쇠사슬’ 맨 형…경찰, 지원 방법 논의 예정\n",
              "                                </a>\n",
              "</strong>\n",
              "</div>\n",
              "</div>"
            ]
          },
          "metadata": {},
          "execution_count": 39
        }
      ]
    },
    {
      "cell_type": "code",
      "source": [
        "final_url_list=[]\n",
        "for i in url_link_list:\n",
        "    for j in i.find_all('a'):\n",
        "        final_url_list.append(j.get('href'))"
      ],
      "metadata": {
        "id": "J99Y2YKtChCU"
      },
      "execution_count": 40,
      "outputs": []
    },
    {
      "cell_type": "code",
      "source": [
        "final_url_list = list(set(final_url_list))"
      ],
      "metadata": {
        "id": "Zc4BKjf2C7G5"
      },
      "execution_count": 41,
      "outputs": []
    },
    {
      "cell_type": "code",
      "source": [
        "final_url_list"
      ],
      "metadata": {
        "colab": {
          "base_uri": "https://localhost:8080/"
        },
        "id": "n629pyV2Df2Z",
        "outputId": "8d441e41-8e19-451b-c5c5-84066e9478f3"
      },
      "execution_count": 42,
      "outputs": [
        {
          "output_type": "execute_result",
          "data": {
            "text/plain": [
              "['https://v.daum.net/v/20230604205103969',\n",
              " 'https://v.daum.net/v/20230604201500547',\n",
              " 'https://v.daum.net/v/20230604203410761',\n",
              " 'https://v.daum.net/v/20230604204107849',\n",
              " 'https://v.daum.net/v/20230604204409882',\n",
              " 'https://v.daum.net/v/20230604192611946',\n",
              " 'https://v.daum.net/v/20230604204802931',\n",
              " 'https://v.daum.net/v/20230604193101989',\n",
              " 'https://v.daum.net/v/20230604204215868',\n",
              " 'https://v.daum.net/v/20230604204805933',\n",
              " 'https://v.daum.net/v/20230604173606129',\n",
              " 'https://v.daum.net/v/20230604172110772',\n",
              " 'https://v.daum.net/v/20230604203350753',\n",
              " 'https://v.daum.net/v/20230604204309871',\n",
              " 'https://v.daum.net/v/20230604195156237',\n",
              " 'https://v.daum.net/v/20230604194109110',\n",
              " 'https://v.daum.net/v/20230604202900696',\n",
              " 'https://v.daum.net/v/20230604203610799',\n",
              " 'https://v.daum.net/v/20230604183035136',\n",
              " 'https://v.daum.net/v/20230604194909200']"
            ]
          },
          "metadata": {},
          "execution_count": 42
        }
      ]
    },
    {
      "cell_type": "markdown",
      "source": [
        "\n",
        "\n",
        "*   find_all: 태그를 추출할 때 사용\n",
        "*   get: 태그 안에 있는 속성의 값을 추출할 때 사용\n"
      ],
      "metadata": {
        "id": "7AkABLBTDm3g"
      }
    },
    {
      "cell_type": "markdown",
      "source": [
        "# 기사 내용 가져오기\n"
      ],
      "metadata": {
        "id": "W6cSyCEkSsEZ"
      }
    },
    {
      "cell_type": "code",
      "source": [
        "article = 'https://v.daum.net/v/20230604182413044'\n",
        "soup = bs(ur.urlopen(news).read(), 'html.parser')"
      ],
      "metadata": {
        "id": "imNLtvaZSyFA"
      },
      "execution_count": 47,
      "outputs": []
    },
    {
      "cell_type": "code",
      "source": [
        "for i in soup.find_all('p'):\n",
        "    print(i.text)"
      ],
      "metadata": {
        "id": "5jBeA6UAULeu"
      },
      "execution_count": 48,
      "outputs": []
    },
    {
      "cell_type": "code",
      "source": [],
      "metadata": {
        "id": "H1_bGTfhUQTt"
      },
      "execution_count": 48,
      "outputs": []
    }
  ]
}