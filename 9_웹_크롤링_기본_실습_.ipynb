{
  "nbformat": 4,
  "nbformat_minor": 0,
  "metadata": {
    "colab": {
      "provenance": []
    },
    "kernelspec": {
      "name": "python3",
      "display_name": "Python 3"
    },
    "language_info": {
      "name": "python"
    }
  },
  "cells": [
    {
      "cell_type": "markdown",
      "source": [],
      "metadata": {
        "id": "XOw1ZUZrIj2q"
      }
    },
    {
      "cell_type": "markdown",
      "source": [
        "# 코드 실습"
      ],
      "metadata": {
        "id": "J1SJZ7aDImIu"
      }
    },
    {
      "cell_type": "markdown",
      "source": [],
      "metadata": {
        "id": "daGVD5XnIp0J"
      }
    },
    {
      "cell_type": "markdown",
      "source": [
        "# 0. 라이브러리 설치 및 설정"
      ],
      "metadata": {
        "id": "sBHkX7gHIwnK"
      }
    },
    {
      "cell_type": "markdown",
      "source": [
        "\n",
        "\n",
        "*   beautifulSoup: 웹 문서를 구성하는 HTML과 XML문서에서 원하는 정보를 쉽게 추출할 수 있는 모듈을 모아놓은 파이썬 패키지\n",
        "*   urllib: 웹에서 얻은 데이터를 다루는 패키지, 내부는 총 네개의 모듈로 구성이 되어 있으며, 웹 문서를 열어 데이터를 읽어오는 request 모듈을 활용\n"
      ],
      "metadata": {
        "id": "ZAEfBJIMI5Gg"
      }
    },
    {
      "cell_type": "code",
      "source": [
        "import os,re\n",
        "import urllib.request as ur #ur로 줄여서 import\n",
        "from bs4 import BeautifulSoup as bs #설치시 : pip install beautifulsoup4"
      ],
      "metadata": {
        "id": "QVAtTtDIJSZl"
      },
      "execution_count": 2,
      "outputs": []
    },
    {
      "cell_type": "markdown",
      "source": [
        "# 1. urlopen으로 웹 문서 자료를 가져와 가공하기"
      ],
      "metadata": {
        "id": "R_9O8QoBK9q8"
      }
    },
    {
      "cell_type": "code",
      "source": [
        "#url이라는 객체에 url 주소를 저장\n",
        "url = \"https://quotes.toscrape.com/\""
      ],
      "metadata": {
        "id": "2kpePALfLCH3"
      },
      "execution_count": 4,
      "outputs": []
    },
    {
      "cell_type": "code",
      "source": [
        "#url 객체에 저장된 URL 주소에 해당하는 웹 사이트를 불러오기\n",
        "html = ur.urlopen(url)"
      ],
      "metadata": {
        "id": "HVakzcDGLE8M"
      },
      "execution_count": 6,
      "outputs": []
    },
    {
      "cell_type": "code",
      "source": [
        "#read()를 활용해 html에 있는 내용 확인하기(일부만)\n",
        "html.read()[:100]"
      ],
      "metadata": {
        "colab": {
          "base_uri": "https://localhost:8080/"
        },
        "id": "MlKbgXANLVNB",
        "outputId": "59ed1b4f-0306-4dd1-e1e2-2a3b1632ccf3"
      },
      "execution_count": 7,
      "outputs": [
        {
          "output_type": "execute_result",
          "data": {
            "text/plain": [
              "b'<!DOCTYPE html>\\n<html lang=\"en\">\\n<head>\\n\\t<meta charset=\"UTF-8\">\\n\\t<title>Quotes to Scrape</title>\\n   '"
            ]
          },
          "metadata": {},
          "execution_count": 7
        }
      ]
    },
    {
      "cell_type": "markdown",
      "source": [
        "# 2. beautifulsoup로 자료형 변환하기"
      ],
      "metadata": {
        "id": "25XVw6VMLpeu"
      }
    },
    {
      "cell_type": "markdown",
      "source": [
        "\n",
        "\n",
        "*   beautifulsoup를 활용해 html 객체에 저장한 자료의 정보를 쉽게 추출할 수 있는 형태, 즉 파싱하기 쉬운 형태로 변환\n",
        "\n",
        "    * 파싱(parsing)이란 웹 문서에서 원하는 패턴이나 순서로 자료를 추출해 가공하는 것을 말함\n",
        "\n",
        "\n",
        "\n"
      ],
      "metadata": {
        "id": "Ti3YTKX1LuAZ"
      }
    },
    {
      "cell_type": "code",
      "source": [
        "html = ur.urlopen(url) #새로 실행/아래에서 에러 방지용\n",
        "soup = bs(html, 'html.parser')"
      ],
      "metadata": {
        "id": "ZN59MBFYMMtM"
      },
      "execution_count": 10,
      "outputs": []
    },
    {
      "cell_type": "code",
      "source": [
        "print(type(html))\n",
        "print(type(soup))"
      ],
      "metadata": {
        "colab": {
          "base_uri": "https://localhost:8080/"
        },
        "id": "xYpmNWcUMWyt",
        "outputId": "655ade9e-957f-44af-f5ea-ad2e0aec6574"
      },
      "execution_count": 11,
      "outputs": [
        {
          "output_type": "stream",
          "name": "stdout",
          "text": [
            "<class 'http.client.HTTPResponse'>\n",
            "<class 'bs4.BeautifulSoup'>\n"
          ]
        }
      ]
    },
    {
      "cell_type": "markdown",
      "source": [
        "# 4. find_all을 활용"
      ],
      "metadata": {
        "id": "4G6kegk7Pzaz"
      }
    },
    {
      "cell_type": "code",
      "source": [
        "span_test_list = soup.find_all(\"span\")"
      ],
      "metadata": {
        "id": "jkkcevuXP2Oo"
      },
      "execution_count": 13,
      "outputs": []
    },
    {
      "cell_type": "code",
      "source": [
        "span_test_list[0]"
      ],
      "metadata": {
        "colab": {
          "base_uri": "https://localhost:8080/"
        },
        "id": "S6Bim7v9P69m",
        "outputId": "603cb8f6-aaf9-481c-e963-1b93aa207728"
      },
      "execution_count": 14,
      "outputs": [
        {
          "output_type": "execute_result",
          "data": {
            "text/plain": [
              "<span class=\"text\" itemprop=\"text\">“The world as we have created it is a process of our thinking. It cannot be changed without changing our thinking.”</span>"
            ]
          },
          "metadata": {},
          "execution_count": 14
        }
      ]
    },
    {
      "cell_type": "code",
      "source": [
        "type(span_test_list[2])"
      ],
      "metadata": {
        "colab": {
          "base_uri": "https://localhost:8080/"
        },
        "id": "ajF424xrQFvT",
        "outputId": "8cd0c47a-a1da-4fbf-fecf-c203596790a5"
      },
      "execution_count": 15,
      "outputs": [
        {
          "output_type": "execute_result",
          "data": {
            "text/plain": [
              "bs4.element.Tag"
            ]
          },
          "metadata": {},
          "execution_count": 15
        }
      ]
    },
    {
      "cell_type": "code",
      "source": [],
      "metadata": {
        "id": "ID5pEQeaQM87"
      },
      "execution_count": null,
      "outputs": []
    },
    {
      "cell_type": "markdown",
      "source": [
        "# 5. 결과에서 텍스트만 출력하기\n"
      ],
      "metadata": {
        "id": "hs_ExeMpQQXf"
      }
    },
    {
      "cell_type": "code",
      "source": [
        "span_test_list[0]"
      ],
      "metadata": {
        "colab": {
          "base_uri": "https://localhost:8080/"
        },
        "id": "so_ksC-sQTKI",
        "outputId": "d8da7076-fa8d-41f7-8554-2efefa72d182"
      },
      "execution_count": 16,
      "outputs": [
        {
          "output_type": "execute_result",
          "data": {
            "text/plain": [
              "<span class=\"text\" itemprop=\"text\">“The world as we have created it is a process of our thinking. It cannot be changed without changing our thinking.”</span>"
            ]
          },
          "metadata": {},
          "execution_count": 16
        }
      ]
    },
    {
      "cell_type": "code",
      "source": [
        "span_test_list[0].text"
      ],
      "metadata": {
        "colab": {
          "base_uri": "https://localhost:8080/",
          "height": 36
        },
        "id": "-tD5yXKUQeNn",
        "outputId": "f90a0ff8-cbbc-46fd-dd23-190eced75e4f"
      },
      "execution_count": 19,
      "outputs": [
        {
          "output_type": "execute_result",
          "data": {
            "text/plain": [
              "'“The world as we have created it is a process of our thinking. It cannot be changed without changing our thinking.”'"
            ],
            "application/vnd.google.colaboratory.intrinsic+json": {
              "type": "string"
            }
          },
          "metadata": {},
          "execution_count": 19
        }
      ]
    },
    {
      "cell_type": "code",
      "source": [
        "for idx, i in enumerate(span_test_list):\n",
        "  print(idx+1, '번째 값: ', i.text)"
      ],
      "metadata": {
        "colab": {
          "base_uri": "https://localhost:8080/"
        },
        "id": "206q9q9MQkHd",
        "outputId": "a933f170-c23e-416a-cdf1-993dff89cdeb"
      },
      "execution_count": 21,
      "outputs": [
        {
          "output_type": "stream",
          "name": "stdout",
          "text": [
            "1 번째 값:  “The world as we have created it is a process of our thinking. It cannot be changed without changing our thinking.”\n",
            "2 번째 값:  by Albert Einstein\n",
            "(about)\n",
            "\n",
            "3 번째 값:  “It is our choices, Harry, that show what we truly are, far more than our abilities.”\n",
            "4 번째 값:  by J.K. Rowling\n",
            "(about)\n",
            "\n",
            "5 번째 값:  “There are only two ways to live your life. One is as though nothing is a miracle. The other is as though everything is a miracle.”\n",
            "6 번째 값:  by Albert Einstein\n",
            "(about)\n",
            "\n",
            "7 번째 값:  “The person, be it gentleman or lady, who has not pleasure in a good novel, must be intolerably stupid.”\n",
            "8 번째 값:  by Jane Austen\n",
            "(about)\n",
            "\n",
            "9 번째 값:  “Imperfection is beauty, madness is genius and it's better to be absolutely ridiculous than absolutely boring.”\n",
            "10 번째 값:  by Marilyn Monroe\n",
            "(about)\n",
            "\n",
            "11 번째 값:  “Try not to become a man of success. Rather become a man of value.”\n",
            "12 번째 값:  by Albert Einstein\n",
            "(about)\n",
            "\n",
            "13 번째 값:  “It is better to be hated for what you are than to be loved for what you are not.”\n",
            "14 번째 값:  by André Gide\n",
            "(about)\n",
            "\n",
            "15 번째 값:  “I have not failed. I've just found 10,000 ways that won't work.”\n",
            "16 번째 값:  by Thomas A. Edison\n",
            "(about)\n",
            "\n",
            "17 번째 값:  “A woman is like a tea bag; you never know how strong it is until it's in hot water.”\n",
            "18 번째 값:  by Eleanor Roosevelt\n",
            "(about)\n",
            "\n",
            "19 번째 값:  “A day without sunshine is like, you know, night.”\n",
            "20 번째 값:  by Steve Martin\n",
            "(about)\n",
            "\n",
            "21 번째 값:  →\n",
            "22 번째 값:  \n",
            "love\n",
            "\n",
            "23 번째 값:  \n",
            "inspirational\n",
            "\n",
            "24 번째 값:  \n",
            "life\n",
            "\n",
            "25 번째 값:  \n",
            "humor\n",
            "\n",
            "26 번째 값:  \n",
            "books\n",
            "\n",
            "27 번째 값:  \n",
            "reading\n",
            "\n",
            "28 번째 값:  \n",
            "friendship\n",
            "\n",
            "29 번째 값:  \n",
            "friends\n",
            "\n",
            "30 번째 값:  \n",
            "truth\n",
            "\n",
            "31 번째 값:  \n",
            "simile\n",
            "\n",
            "32 번째 값:  ❤\n"
          ]
        }
      ]
    },
    {
      "cell_type": "code",
      "source": [
        "#정리 예시 코드\n",
        "for idx, i in enumerate(span_test_list[:20]):\n",
        "  if idx%2 == 0: #위치가 짝수일때에만 명언이 존재\n",
        "    print(idx+1, '번째 값: ', i.text)"
      ],
      "metadata": {
        "colab": {
          "base_uri": "https://localhost:8080/"
        },
        "id": "uxqW9ybZQ5c5",
        "outputId": "f1e672d5-281c-4ec6-e8f1-1161f76cbcf2"
      },
      "execution_count": 22,
      "outputs": [
        {
          "output_type": "stream",
          "name": "stdout",
          "text": [
            "1 번째 값:  “The world as we have created it is a process of our thinking. It cannot be changed without changing our thinking.”\n",
            "3 번째 값:  “It is our choices, Harry, that show what we truly are, far more than our abilities.”\n",
            "5 번째 값:  “There are only two ways to live your life. One is as though nothing is a miracle. The other is as though everything is a miracle.”\n",
            "7 번째 값:  “The person, be it gentleman or lady, who has not pleasure in a good novel, must be intolerably stupid.”\n",
            "9 번째 값:  “Imperfection is beauty, madness is genius and it's better to be absolutely ridiculous than absolutely boring.”\n",
            "11 번째 값:  “Try not to become a man of success. Rather become a man of value.”\n",
            "13 번째 값:  “It is better to be hated for what you are than to be loved for what you are not.”\n",
            "15 번째 값:  “I have not failed. I've just found 10,000 ways that won't work.”\n",
            "17 번째 값:  “A woman is like a tea bag; you never know how strong it is until it's in hot water.”\n",
            "19 번째 값:  “A day without sunshine is like, you know, night.”\n"
          ]
        }
      ]
    },
    {
      "cell_type": "markdown",
      "source": [
        "# 6. <div.>태그 안에 정의된 특정 클래스를 찾아가는 방법"
      ],
      "metadata": {
        "id": "oVsLPUxkRpbZ"
      }
    },
    {
      "cell_type": "code",
      "source": [
        "div_quote_lst = soup.find_all('div', {\"class\":\"quote\"})"
      ],
      "metadata": {
        "id": "aXrm-zruRyAu"
      },
      "execution_count": 26,
      "outputs": []
    },
    {
      "cell_type": "code",
      "source": [
        "div_quote_lst[0].text"
      ],
      "metadata": {
        "colab": {
          "base_uri": "https://localhost:8080/",
          "height": 54
        },
        "id": "OWcHc8bATBuO",
        "outputId": "b620e212-2d74-4093-eb97-744a216a01b1"
      },
      "execution_count": 27,
      "outputs": [
        {
          "output_type": "execute_result",
          "data": {
            "text/plain": [
              "'\\n“The world as we have created it is a process of our thinking. It cannot be changed without changing our thinking.”\\nby Albert Einstein\\n(about)\\n\\n\\n            Tags:\\n            \\nchange\\ndeep-thoughts\\nthinking\\nworld\\n\\n'"
            ],
            "application/vnd.google.colaboratory.intrinsic+json": {
              "type": "string"
            }
          },
          "metadata": {},
          "execution_count": 27
        }
      ]
    },
    {
      "cell_type": "code",
      "source": [
        "print(div_quote_lst[0].text)"
      ],
      "metadata": {
        "colab": {
          "base_uri": "https://localhost:8080/"
        },
        "id": "gQalomxMTPnV",
        "outputId": "56d05d86-6bac-4b87-c1d7-641fd980eb25"
      },
      "execution_count": 28,
      "outputs": [
        {
          "output_type": "stream",
          "name": "stdout",
          "text": [
            "\n",
            "“The world as we have created it is a process of our thinking. It cannot be changed without changing our thinking.”\n",
            "by Albert Einstein\n",
            "(about)\n",
            "\n",
            "\n",
            "            Tags:\n",
            "            \n",
            "change\n",
            "deep-thoughts\n",
            "thinking\n",
            "world\n",
            "\n",
            "\n"
          ]
        }
      ]
    }
  ]
}